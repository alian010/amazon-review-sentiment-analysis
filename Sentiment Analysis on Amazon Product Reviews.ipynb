{
 "cells": [
  {
   "cell_type": "markdown",
   "id": "e7dcf17a",
   "metadata": {},
   "source": [
    "\n",
    "# Sentiment Analysis on Amazon Product Reviews\n",
    "\n",
    "**Date:** 2025-09-30\n",
    "\n",
    "This notebook predicts **binary sentiment** (1 = positive, 0 = negative) from Amazon product review text.\n",
    "We cover: dataset overview → preprocessing → vectorization → multiple models → evaluation → tuning → comparison → conclusions.\n",
    "\n",
    "**Dataset:** `https://raw.githubusercontent.com/rashakil-ds/Public-Datasets/refs/heads/main/amazon.csv`\n"
   ]
  },
  {
   "cell_type": "markdown",
   "id": "772db595",
   "metadata": {},
   "source": [
    "## 1. Dataset Overview"
   ]
  },
  {
   "cell_type": "code",
   "execution_count": null,
   "id": "31e0e835",
   "metadata": {},
   "outputs": [],
   "source": [
    "\n",
    "# Imports for data handling and visuals\n",
    "import pandas as pd\n",
    "import numpy as np\n",
    "import matplotlib.pyplot as plt\n",
    "import seaborn as sns\n",
    "\n",
    "# Load dataset\n",
    "url = 'https://raw.githubusercontent.com/rashakil-ds/Public-Datasets/refs/heads/main/amazon.csv'\n",
    "df = pd.read_csv(url)\n",
    "\n",
    "# Quick peek\n",
    "print(\"Shape:\", df.shape)\n",
    "display(df.head())\n",
    "\n",
    "# Expect columns: reviewText (str), Positive (0/1)\n",
    "assert 'reviewText' in df.columns and 'Positive' in df.columns, \"Expected columns 'reviewText' and 'Positive'.\"\n",
    "\n",
    "# Target distribution\n",
    "sns.countplot(x='Positive', data=df)\n",
    "plt.title('Target Distribution (Positive)')\n",
    "plt.show()\n",
    "\n",
    "# Missing check\n",
    "display(df.isna().sum())\n"
   ]
  },
  {
   "cell_type": "markdown",
   "id": "47dd4ee8",
   "metadata": {},
   "source": [
    "## 2. Data Preprocessing"
   ]
  },
  {
   "cell_type": "code",
   "execution_count": null,
   "id": "c5990898",
   "metadata": {},
   "outputs": [],
   "source": [
    "\n",
    "# Text cleaning without internet corpora\n",
    "import re, string\n",
    "from nltk.stem import PorterStemmer  # no corpus needed\n",
    "\n",
    "ps = PorterStemmer()\n",
    "\n",
    "def basic_clean(text):\n",
    "    # Lowercase\n",
    "    text = text.lower()\n",
    "    # Remove URLs\n",
    "    text = re.sub(r'https?://\\S+|www\\.\\S+', ' ', text)\n",
    "    # Remove HTML tags\n",
    "    text = re.sub(r'<.*?>', ' ', text)\n",
    "    # Remove non-letters\n",
    "    text = re.sub(r'[^a-z\\s]', ' ', text)\n",
    "    # Collapse spaces\n",
    "    text = re.sub(r'\\s+', ' ', text).strip()\n",
    "    return text\n",
    "\n",
    "def tokenize_and_stem(text):\n",
    "    # Simple whitespace tokenization + Porter stemming\n",
    "    tokens = text.split()\n",
    "    stems = [ps.stem(t) for t in tokens]\n",
    "    return \" \".join(stems)\n",
    "\n",
    "# Handle missing reviewText\n",
    "df['reviewText'] = df['reviewText'].fillna('')\n",
    "\n",
    "# Apply cleaning + stemming\n",
    "df['clean'] = df['reviewText'].map(basic_clean).map(tokenize_and_stem)\n",
    "\n",
    "# Train/test split\n",
    "from sklearn.model_selection import train_test_split\n",
    "X_train, X_test, y_train, y_test = train_test_split(\n",
    "    df['clean'], df['Positive'], test_size=0.2, random_state=42, stratify=df['Positive']\n",
    ")\n",
    "\n",
    "print(\"Train size:\", X_train.shape[0], \" Test size:\", X_test.shape[0])\n"
   ]
  },
  {
   "cell_type": "markdown",
   "id": "37bff2bf",
   "metadata": {},
   "source": [
    "### Vectorization (TF-IDF)"
   ]
  },
  {
   "cell_type": "code",
   "execution_count": null,
   "id": "bda98c10",
   "metadata": {},
   "outputs": [],
   "source": [
    "\n",
    "from sklearn.feature_extraction.text import TfidfVectorizer\n",
    "\n",
    "# Use English stop words from sklearn (no external downloads)\n",
    "tfidf = TfidfVectorizer(stop_words='english', ngram_range=(1,2), min_df=2, max_df=0.9)\n",
    "\n",
    "Xtr = tfidf.fit_transform(X_train)\n",
    "Xte = tfidf.transform(X_test)\n",
    "\n",
    "Xtr.shape, Xte.shape\n"
   ]
  },
  {
   "cell_type": "markdown",
   "id": "3ce1a6ea",
   "metadata": {},
   "source": [
    "## 3. Model Selection"
   ]
  },
  {
   "cell_type": "code",
   "execution_count": null,
   "id": "c5a49ded",
   "metadata": {},
   "outputs": [],
   "source": [
    "\n",
    "# We'll train 4 classical models: Logistic Regression, Linear SVM, MultinomialNB, RandomForest\n",
    "from sklearn.linear_model import LogisticRegression\n",
    "from sklearn.svm import LinearSVC\n",
    "from sklearn.naive_bayes import MultinomialNB\n",
    "from sklearn.ensemble import RandomForestClassifier\n",
    "\n",
    "models = {\n",
    "    \"LogReg\": LogisticRegression(max_iter=2000, n_jobs=-1),\n",
    "    \"LinearSVC\": LinearSVC(),\n",
    "    \"MultinomialNB\": MultinomialNB(),\n",
    "    \"RandomForest\": RandomForestClassifier(n_estimators=300, random_state=42, n_jobs=-1)\n",
    "}\n",
    "list(models.keys())\n"
   ]
  },
  {
   "cell_type": "markdown",
   "id": "cc76aa82",
   "metadata": {},
   "source": [
    "## 4. Model Training"
   ]
  },
  {
   "cell_type": "code",
   "execution_count": null,
   "id": "2aa136a6",
   "metadata": {},
   "outputs": [],
   "source": [
    "\n",
    "from sklearn.metrics import accuracy_score, precision_recall_fscore_support, classification_report, confusion_matrix\n",
    "\n",
    "def evaluate_and_report(name, clf, Xtr, ytr, Xte, yte):\n",
    "    # Fit\n",
    "    clf.fit(Xtr, ytr)\n",
    "    # Predict\n",
    "    pred = clf.predict(Xte)\n",
    "    # Metrics\n",
    "    acc = accuracy_score(yte, pred)\n",
    "    prec, rec, f1, _ = precision_recall_fscore_support(yte, pred, average='binary', zero_division=0)\n",
    "    print(f\"[{name}] Acc:{acc:.4f} Prec:{prec:.4f} Rec:{rec:.4f} F1:{f1:.4f}\")\n",
    "    print(classification_report(yte, pred, zero_division=0))\n",
    "    # Confusion matrix\n",
    "    cm = confusion_matrix(yte, pred)\n",
    "    sns.heatmap(cm, annot=True, fmt='d', cbar=False)\n",
    "    plt.title(f'Confusion Matrix - {name}')\n",
    "    plt.xlabel('Predicted'); plt.ylabel('True')\n",
    "    plt.show()\n",
    "    return {\"model\": name, \"acc\": acc, \"prec\": prec, \"rec\": rec, \"f1\": f1}\n",
    "\n",
    "results = []\n",
    "for name, clf in models.items():\n",
    "    print(\"=\"*60)\n",
    "    results.append(evaluate_and_report(name, clf, Xtr, y_train, Xte, y_test))\n",
    "\n",
    "results\n"
   ]
  },
  {
   "cell_type": "markdown",
   "id": "6394dda5",
   "metadata": {},
   "source": [
    "## 5. Formal Evaluation"
   ]
  },
  {
   "cell_type": "code",
   "execution_count": null,
   "id": "48f9b166",
   "metadata": {},
   "outputs": [],
   "source": [
    "\n",
    "# Results table\n",
    "res_df = pd.DataFrame(results).sort_values('f1', ascending=False).reset_index(drop=True)\n",
    "display(res_df)\n",
    "\n",
    "# Bar plot of F1\n",
    "plt.figure()\n",
    "plt.bar(res_df['model'], res_df['f1'])\n",
    "plt.title('F1 Score by Model')\n",
    "plt.ylabel('F1')\n",
    "plt.show()\n"
   ]
  },
  {
   "cell_type": "markdown",
   "id": "e7c1c2bf",
   "metadata": {},
   "source": [
    "## 6. Hyperparameter Tuning"
   ]
  },
  {
   "cell_type": "code",
   "execution_count": null,
   "id": "83fda49f",
   "metadata": {},
   "outputs": [],
   "source": [
    "\n",
    "from sklearn.model_selection import GridSearchCV, StratifiedKFold\n",
    "\n",
    "# Example: tune LinearSVC and Logistic Regression\n",
    "param_grid_svc = {\n",
    "    \"C\": [0.5, 1.0, 2.0],\n",
    "    \"loss\": [\"hinge\", \"squared_hinge\"]\n",
    "}\n",
    "svc = LinearSVC()\n",
    "cv = StratifiedKFold(n_splits=5, shuffle=True, random_state=42)\n",
    "grid_svc = GridSearchCV(svc, param_grid_svc, scoring='f1', cv=cv, n_jobs=-1, verbose=0)\n",
    "grid_svc.fit(Xtr, y_train)\n",
    "print(\"Best SVC params:\", grid_svc.best_params_)\n",
    "print(\"Best SVC CV f1:\", grid_svc.best_score_)\n",
    "\n",
    "param_grid_lr = {\n",
    "    \"C\": [0.5, 1.0, 2.0],\n",
    "    \"penalty\": [\"l2\"],\n",
    "    \"solver\": [\"liblinear\", \"lbfgs\"]\n",
    "}\n",
    "lr = LogisticRegression(max_iter=2000)\n",
    "grid_lr = GridSearchCV(lr, param_grid_lr, scoring='f1', cv=cv, n_jobs=-1, verbose=0)\n",
    "grid_lr.fit(Xtr, y_train)\n",
    "print(\"Best LR params:\", grid_lr.best_params_)\n",
    "print(\"Best LR CV f1:\", grid_lr.best_score_)\n"
   ]
  },
  {
   "cell_type": "code",
   "execution_count": null,
   "id": "0cb011c0",
   "metadata": {},
   "outputs": [],
   "source": [
    "\n",
    "# Evaluate tuned models on test set\n",
    "svc_best = grid_svc.best_estimator_\n",
    "lr_best = grid_lr.best_estimator_\n",
    "\n",
    "print(\"\\n=== Tuned LinearSVC on Test ===\")\n",
    "evaluate_and_report(\"LinearSVC (tuned)\", svc_best, Xtr, y_train, Xte, y_test)\n",
    "\n",
    "print(\"\\n=== Tuned LogisticRegression on Test ===\")\n",
    "evaluate_and_report(\"LogReg (tuned)\", lr_best, Xtr, y_train, Xte, y_test)\n"
   ]
  },
  {
   "cell_type": "markdown",
   "id": "1ae9b302",
   "metadata": {},
   "source": [
    "## 7. Comparative Analysis"
   ]
  },
  {
   "cell_type": "code",
   "execution_count": null,
   "id": "1acbdc0a",
   "metadata": {},
   "outputs": [],
   "source": [
    "\n",
    "# Combine base + tuned results for comparison\n",
    "comp_rows = results.copy()\n",
    "\n",
    "# Re-evaluate tuned ones for consistent capture\n",
    "for name, est in [(\"LinearSVC (tuned)\", svc_best), (\"LogReg (tuned)\", lr_best)]:\n",
    "    pred = est.predict(Xte)\n",
    "    acc = accuracy_score(y_test, pred)\n",
    "    prec, rec, f1, _ = precision_recall_fscore_support(y_test, pred, average='binary', zero_division=0)\n",
    "    comp_rows.append({\"model\": name, \"acc\": acc, \"prec\": prec, \"rec\": rec, \"f1\": f1})\n",
    "\n",
    "comp_df = pd.DataFrame(comp_rows).sort_values(\"f1\", ascending=False).reset_index(drop=True)\n",
    "display(comp_df)\n",
    "\n",
    "print(\"Strengths/Weaknesses:\")\n",
    "print(\"- LinearSVC: strong on sparse TF-IDF, fast; needs calibration for probabilities.\")\n",
    "print(\"- LogisticRegression: robust, interpretable coefficients; supports probs.\")\n",
    "print(\"- MultinomialNB: simple/fast; can struggle if n-gram space large.\")\n",
    "print(\"- RandomForest: less suited to sparse high-dim TF-IDF; slower, can overfit.\")\n"
   ]
  },
  {
   "cell_type": "markdown",
   "id": "34e50712",
   "metadata": {},
   "source": [
    "## 8. Conclusion & Comments"
   ]
  },
  {
   "cell_type": "markdown",
   "id": "228d3c30",
   "metadata": {},
   "source": [
    "\n",
   
