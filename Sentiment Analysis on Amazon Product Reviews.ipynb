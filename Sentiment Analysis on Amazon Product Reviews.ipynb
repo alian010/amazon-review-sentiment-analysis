{
 "cells": [
  {
   "cell_type": "markdown",
   "id": "e7dcf17a",
   "metadata": {},
   "source": [
    "\n",
    "# Sentiment Analysis on Amazon Product Reviews\n",
    "\n",
    "**Date:** 2025-09-30\n",
    "\n",
    "This notebook predicts **binary sentiment** (1 = positive, 0 = negative) from Amazon product review text.\n",
    "We cover: dataset overview → preprocessing → vectorization → multiple models → evaluation → tuning → comparison → conclusions.\n",
    "\n",
    "**Dataset:** `https://raw.githubusercontent.com/rashakil-ds/Public-Datasets/refs/heads/main/amazon.csv`\n"
   ]
  },
  {
   "cell_type": "markdown",
   "id": "772db595",
   "metadata": {},
   "source": [
    "## 1. Dataset Overview"
   ]
  },
  {
   "cell_type": "code",
   "execution_count": 10,
   "id": "31e0e835",
   "metadata": {},
   "outputs": [
    {
     "name": "stdout",
     "output_type": "stream",
     "text": [
      "Shape: (20000, 2)\n"
     ]
    },
    {
     "data": {
      "text/html": [
       "<div>\n",
       "<style scoped>\n",
       "    .dataframe tbody tr th:only-of-type {\n",
       "        vertical-align: middle;\n",
       "    }\n",
       "\n",
       "    .dataframe tbody tr th {\n",
       "        vertical-align: top;\n",
       "    }\n",
       "\n",
       "    .dataframe thead th {\n",
       "        text-align: right;\n",
       "    }\n",
       "</style>\n",
       "<table border=\"1\" class=\"dataframe\">\n",
       "  <thead>\n",
       "    <tr style=\"text-align: right;\">\n",
       "      <th></th>\n",
       "      <th>reviewText</th>\n",
       "      <th>Positive</th>\n",
       "    </tr>\n",
       "  </thead>\n",
       "  <tbody>\n",
       "    <tr>\n",
       "      <th>0</th>\n",
       "      <td>This is a one of the best apps acording to a b...</td>\n",
       "      <td>1</td>\n",
       "    </tr>\n",
       "    <tr>\n",
       "      <th>1</th>\n",
       "      <td>This is a pretty good version of the game for ...</td>\n",
       "      <td>1</td>\n",
       "    </tr>\n",
       "    <tr>\n",
       "      <th>2</th>\n",
       "      <td>this is a really cool game. there are a bunch ...</td>\n",
       "      <td>1</td>\n",
       "    </tr>\n",
       "    <tr>\n",
       "      <th>3</th>\n",
       "      <td>This is a silly game and can be frustrating, b...</td>\n",
       "      <td>1</td>\n",
       "    </tr>\n",
       "    <tr>\n",
       "      <th>4</th>\n",
       "      <td>This is a terrific game on any pad. Hrs of fun...</td>\n",
       "      <td>1</td>\n",
       "    </tr>\n",
       "  </tbody>\n",
       "</table>\n",
       "</div>"
      ],
      "text/plain": [
       "                                          reviewText  Positive\n",
       "0  This is a one of the best apps acording to a b...         1\n",
       "1  This is a pretty good version of the game for ...         1\n",
       "2  this is a really cool game. there are a bunch ...         1\n",
       "3  This is a silly game and can be frustrating, b...         1\n",
       "4  This is a terrific game on any pad. Hrs of fun...         1"
      ]
     },
     "metadata": {},
     "output_type": "display_data"
    },
    {
     "data": {
      "image/png": "[encoded data removed]",
      "text/plain": [
       "<Figure size 640x480 with 1 Axes>"
      ]
     },
     "metadata": {},
     "output_type": "display_data"
    },
    {
     "data": {
      "text/plain": [
       "reviewText    0\n",
       "Positive      0\n",
       "dtype: int64"
      ]
     },
     "metadata": {},
     "output_type": "display_data"
    }
   ],
   "source": [
    "\n",
    "# Imports for data handling and visuals\n",
    "import pandas as pd\n",
    "import numpy as np\n",
    "import matplotlib.pyplot as plt\n",
    "import seaborn as sns\n",
    "\n",
    "# Load dataset\n",
    "url = 'https://raw.githubusercontent.com/rashakil-ds/Public-Datasets/refs/heads/main/amazon.csv'\n",
    "df = pd.read_csv(url)\n",
    "\n",
    "# Quick peek\n",
    "print(\"Shape:\", df.shape)\n",
    "display(df.head())\n",
    "\n",
    "# Expect columns: reviewText (str), Positive (0/1)\n",
    "assert 'reviewText' in df.columns and 'Positive' in df.columns, \"Expected columns 'reviewText' and 'Positive'.\"\n",
    "\n",
    "# Target distribution\n",
    "sns.countplot(x='Positive', data=df)\n",
    "plt.title('Target Distribution (Positive)')\n",
    "plt.show()\n",
    "\n",
    "# Missing check\n",
    "display(df.isna().sum())\n"
   ]
  },
  {
   "cell_type": "markdown",
   "id": "47dd4ee8",
   "metadata": {},
   "source": [
    "## 2. Data Preprocessing"
   ]
  },
  {
   "cell_type": "code",
   "execution_count": 11,
   "id": "c5990898",
   "metadata": {},
   "outputs": [
    {
     "name": "stdout",
     "output_type": "stream",
     "text": [
      "Train size: 16000  Test size: 4000\n"
     ]
    }
   ],
   "source": [
    "\n",
    "# Text cleaning without internet corpora\n",
    "import re, string\n",
    "from nltk.stem import PorterStemmer  # no corpus needed\n",
    "\n",
    "ps = PorterStemmer()\n",
    "\n",
    "def basic_clean(text):\n",
    "    # Lowercase\n",
    "    text = text.lower()\n",
    "    # Remove URLs\n",
    "    text = re.sub(r'https?://\\S+|www\\.\\S+', ' ', text)\n",
    "    # Remove HTML tags\n",
    "    text = re.sub(r'<.*?>', ' ', text)\n",
    "    # Remove non-letters\n",
    "    text = re.sub(r'[^a-z\\s]', ' ', text)\n",
    "    # Collapse spaces\n",
    "    text = re.sub(r'\\s+', ' ', text).strip()\n",
    "    return text\n",
    "\n",
    "def tokenize_and_stem(text):\n",
    "    # Simple whitespace tokenization + Porter stemming\n",
    "    tokens = text.split()\n",
    "    stems = [ps.stem(t) for t in tokens]\n",
    "    return \" \".join(stems)\n",
    "\n",
    "# Handle missing reviewText\n",
    "df['reviewText'] = df['reviewText'].fillna('')\n",
    "\n",
    "# Apply cleaning + stemming\n",
    "df['clean'] = df['reviewText'].map(basic_clean).map(tokenize_and_stem)\n",
    "\n",
    "# Train/test split\n",
    "from sklearn.model_selection import train_test_split\n",
    "X_train, X_test, y_train, y_test = train_test_split(\n",
    "    df['clean'], df['Positive'], test_size=0.2, random_state=42, stratify=df['Positive']\n",
    ")\n",
    "\n",
    "print(\"Train size:\", X_train.shape[0], \" Test size:\", X_test.shape[0])\n"
   ]
  },
  {
   "cell_type": "markdown",
   "id": "37bff2bf",
   "metadata": {},
   "source": [
    "### Vectorization (TF-IDF)"
   ]
  },
  {
   "cell_type": "code",
   "execution_count": 12,
   "id": "bda98c10",
   "metadata": {},
   "outputs": [
    {
     "data": {
      "text/plain": [
       "((16000, 31836), (4000, 31836))"
      ]
     },
     "execution_count": 12,
     "metadata": {},
     "output_type": "execute_result"
    }
   ],
   "source": [
    "\n",
    "from sklearn.feature_extraction.text import TfidfVectorizer\n",
    "\n",
    "# Use English stop words from sklearn (no external downloads)\n",
    "tfidf = TfidfVectorizer(stop_words='english', ngram_range=(1,2), min_df=2, max_df=0.9)\n",
    "\n",
    "Xtr = tfidf.fit_transform(X_train)\n",
    "Xte = tfidf.transform(X_test)\n",
    "\n",
    "Xtr.shape, Xte.shape\n"
   ]
  },
  {
   "cell_type": "markdown",
   "id": "3ce1a6ea",
   "metadata": {},
   "source": [
    "## 3. Model Selection"
   ]
  },
  {
   "cell_type": "code",
   "execution_count": 13,
   "id": "c5a49ded",
   "metadata": {},
   "outputs": [
    {
     "data": {
      "text/plain": [
       "['LogReg', 'LinearSVC', 'MultinomialNB', 'RandomForest']"
      ]
     },
     "execution_count": 13,
     "metadata": {},
     "output_type": "execute_result"
    }
   ],
   "source": [
    "\n",
    "# We'll train 4 classical models: Logistic Regression, Linear SVM, MultinomialNB, RandomForest\n",
    "from sklearn.linear_model import LogisticRegression\n",
    "from sklearn.svm import LinearSVC\n",
    "from sklearn.naive_bayes import MultinomialNB\n",
    "from sklearn.ensemble import RandomForestClassifier\n",
    "\n",
    "models = {\n",
    "    \"LogReg\": LogisticRegression(max_iter=2000, n_jobs=-1),\n",
    "    \"LinearSVC\": LinearSVC(),\n",
    "    \"MultinomialNB\": MultinomialNB(),\n",
    "    \"RandomForest\": RandomForestClassifier(n_estimators=300, random_state=42, n_jobs=-1)\n",
    "}\n",
    "list(models.keys())\n"
   ]
  },
  {
   "cell_type": "markdown",
   "id": "cc76aa82",
   "metadata": {},
   "source": [
    "## 4. Model Training"
   ]
  },
  {
   "cell_type": "code",
   "execution_count": 14,
   "id": "2aa136a6",
   "metadata": {},
   "outputs": [
    {
     "name": "stdout",
     "output_type": "stream",
     "text": [
      "============================================================\n",
      "[LogReg] Acc:0.8895 Prec:0.8951 Rec:0.9685 F1:0.9303\n",
      "              precision    recall  f1-score   support\n",
      "\n",
      "           0       0.86      0.64      0.73       953\n",
      "           1       0.90      0.97      0.93      3047\n",
      "\n",
      "    accuracy                           0.89      4000\n",
      "   macro avg       0.88      0.80      0.83      4000\n",
      "weighted avg       0.89      0.89      0.88      4000\n",
      "\n"
     ]
    },
    {
     "data": {
      "image/png": "[encoded data removed]",
      "text/plain": [
       "<Figure size 640x480 with 1 Axes>"
      ]
     },
     "metadata": {},
     "output_type": "display_data"
    },
    {
     "name": "stdout",
     "output_type": "stream",
     "text": [
      "============================================================\n",
      "[LinearSVC] Acc:0.9058 Prec:0.9257 Rec:0.9527 F1:0.9390\n",
      "              precision    recall  f1-score   support\n",
      "\n",
      "           0       0.83      0.76      0.79       953\n",
      "           1       0.93      0.95      0.94      3047\n",
      "\n",
      "    accuracy                           0.91      4000\n",
      "   macro avg       0.88      0.85      0.87      4000\n",
      "weighted avg       0.90      0.91      0.90      4000\n",
      "\n"
     ]
    },
    {
     "data": {
      "image/png": "[encoded data removed]",
      "text/plain": [
       "<Figure size 640x480 with 1 Axes>"
      ]
     },
     "metadata": {},
     "output_type": "display_data"
    },
    {
     "name": "stdout",
     "output_type": "stream",
     "text": [
      "============================================================\n",
      "[MultinomialNB] Acc:0.8293 Prec:0.8176 Rec:0.9987 F1:0.8991\n",
      "              precision    recall  f1-score   support\n",
      "\n",
      "           0       0.99      0.29      0.45       953\n",
      "           1       0.82      1.00      0.90      3047\n",
      "\n",
      "    accuracy                           0.83      4000\n",
      "   macro avg       0.90      0.64      0.67      4000\n",
      "weighted avg       0.86      0.83      0.79      4000\n",
      "\n"
     ]
    },
    {
     "data": {
      "image/png": "[encoded data removed]",
      "text/plain": [
       "<Figure size 640x480 with 1 Axes>"
      ]
     },
     "metadata": {},
     "output_type": "display_data"
    },
    {
     "name": "stdout",
     "output_type": "stream",
     "text": [
      "============================================================\n",
      "[RandomForest] Acc:0.8765 Prec:0.8769 Rec:0.9747 F1:0.9232\n",
      "              precision    recall  f1-score   support\n",
      "\n",
      "           0       0.87      0.56      0.68       953\n",
      "           1       0.88      0.97      0.92      3047\n",
      "\n",
      "    accuracy                           0.88      4000\n",
      "   macro avg       0.88      0.77      0.80      4000\n",
      "weighted avg       0.88      0.88      0.87      4000\n",
      "\n"
     ]
    },
    {
     "data": {
      "image/png": "[encoded data removed]",
      "text/plain": [
       "<Figure size 640x480 with 1 Axes>"
      ]
     },
     "metadata": {},
     "output_type": "display_data"
    },
    {
     "data": {
      "text/plain": [
       "[{'model': 'LogReg',\n",
       "  'acc': 0.8895,\n",
       "  'prec': 0.8950561116166211,\n",
       "  'rec': 0.9684936002625534,\n",
       "  'f1': 0.930327868852459},\n",
       " {'model': 'LinearSVC',\n",
       "  'acc': 0.90575,\n",
       "  'prec': 0.9257015306122449,\n",
       "  'rec': 0.95274040039383,\n",
       "  'f1': 0.9390263626071487},\n",
       " {'model': 'MultinomialNB',\n",
       "  'acc': 0.82925,\n",
       "  'prec': 0.8175711982804944,\n",
       "  'rec': 0.998687233344273,\n",
       "  'f1': 0.8990988329147585},\n",
       " {'model': 'RandomForest',\n",
       "  'acc': 0.8765,\n",
       "  'prec': 0.8768821966341895,\n",
       "  'rec': 0.9747292418772563,\n",
       "  'f1': 0.9232203916692571}]"
      ]
     },
     "execution_count": 14,
     "metadata": {},
     "output_type": "execute_result"
    }
   ],
   "source": [
    "\n",
    "from sklearn.metrics import accuracy_score, precision_recall_fscore_support, classification_report, confusion_matrix\n",
    "\n",
    "def evaluate_and_report(name, clf, Xtr, ytr, Xte, yte):\n",
    "    # Fit\n",
    "    clf.fit(Xtr, ytr)\n",
    "    # Predict\n",
    "    pred = clf.predict(Xte)\n",
    "    # Metrics\n",
    "    acc = accuracy_score(yte, pred)\n",
    "    prec, rec, f1, _ = precision_recall_fscore_support(yte, pred, average='binary', zero_division=0)\n",
    "    print(f\"[{name}] Acc:{acc:.4f} Prec:{prec:.4f} Rec:{rec:.4f} F1:{f1:.4f}\")\n",
    "    print(classification_report(yte, pred, zero_division=0))\n",
    "    # Confusion matrix\n",
    "    cm = confusion_matrix(yte, pred)\n",
    "    sns.heatmap(cm, annot=True, fmt='d', cbar=False)\n",
    "    plt.title(f'Confusion Matrix - {name}')\n",
    "    plt.xlabel('Predicted'); plt.ylabel('True')\n",
    "    plt.show()\n",
    "    return {\"model\": name, \"acc\": acc, \"prec\": prec, \"rec\": rec, \"f1\": f1}\n",
    "\n",
    "results = []\n",
    "for name, clf in models.items():\n",
    "    print(\"=\"*60)\n",
    "    results.append(evaluate_and_report(name, clf, Xtr, y_train, Xte, y_test))\n",
    "\n",
    "results\n"
   ]
  },
  {
   "cell_type": "markdown",
   "id": "6394dda5",
   "metadata": {},
   "source": [
    "## 5. Formal Evaluation"
   ]
  },
  {
   "cell_type": "code",
   "execution_count": 15,
   "id": "48f9b166",
   "metadata": {},
   "outputs": [
    {
     "data": {
      "text/html": [
       "<div>\n",
       "<style scoped>\n",
       "    .dataframe tbody tr th:only-of-type {\n",
       "        vertical-align: middle;\n",
       "    }\n",
       "\n",
       "    .dataframe tbody tr th {\n",
       "        vertical-align: top;\n",
       "    }\n",
       "\n",
       "    .dataframe thead th {\n",
       "        text-align: right;\n",
       "    }\n",
       "</style>\n",
       "<table border=\"1\" class=\"dataframe\">\n",
       "  <thead>\n",
       "    <tr style=\"text-align: right;\">\n",
       "      <th></th>\n",
       "      <th>model</th>\n",
       "      <th>acc</th>\n",
       "      <th>prec</th>\n",
       "      <th>rec</th>\n",
       "      <th>f1</th>\n",
       "    </tr>\n",
       "  </thead>\n",
       "  <tbody>\n",
       "    <tr>\n",
       "      <th>0</th>\n",
       "      <td>LinearSVC</td>\n",
       "      <td>0.90575</td>\n",
       "      <td>0.925702</td>\n",
       "      <td>0.952740</td>\n",
       "      <td>0.939026</td>\n",
       "    </tr>\n",
       "    <tr>\n",
       "      <th>1</th>\n",
       "      <td>LogReg</td>\n",
       "      <td>0.88950</td>\n",
       "      <td>0.895056</td>\n",
       "      <td>0.968494</td>\n",
       "      <td>0.930328</td>\n",
       "    </tr>\n",
       "    <tr>\n",
       "      <th>2</th>\n",
       "      <td>RandomForest</td>\n",
       "      <td>0.87650</td>\n",
       "      <td>0.876882</td>\n",
       "      <td>0.974729</td>\n",
       "      <td>0.923220</td>\n",
       "    </tr>\n",
       "    <tr>\n",
       "      <th>3</th>\n",
       "      <td>MultinomialNB</td>\n",
       "      <td>0.82925</td>\n",
       "      <td>0.817571</td>\n",
       "      <td>0.998687</td>\n",
       "      <td>0.899099</td>\n",
       "    </tr>\n",
       "  </tbody>\n",
       "</table>\n",
       "</div>"
      ],
      "text/plain": [
       "           model      acc      prec       rec        f1\n",
       "0      LinearSVC  0.90575  0.925702  0.952740  0.939026\n",
       "1         LogReg  0.88950  0.895056  0.968494  0.930328\n",
       "2   RandomForest  0.87650  0.876882  0.974729  0.923220\n",
       "3  MultinomialNB  0.82925  0.817571  0.998687  0.899099"
      ]
     },
     "metadata": {},
     "output_type": "display_data"
    },
    {
     "data": {
      "image/png": "[encoded data removed]",
      "text/plain": [
       "<Figure size 640x480 with 1 Axes>"
      ]
     },
     "metadata": {},
     "output_type": "display_data"
    }
   ],
   "source": [
    "\n",
    "# Results table\n",
    "res_df = pd.DataFrame(results).sort_values('f1', ascending=False).reset_index(drop=True)\n",
    "display(res_df)\n",
    "\n",
    "# Bar plot of F1\n",
    "plt.figure()\n",
    "plt.bar(res_df['model'], res_df['f1'])\n",
    "plt.title('F1 Score by Model')\n",
    "plt.ylabel('F1')\n",
    "plt.show()\n"
   ]
  },
  {
   "cell_type": "markdown",
   "id": "e7c1c2bf",
   "metadata": {},
   "source": [
    "## 6. Hyperparameter Tuning"
   ]
  },
  {
   "cell_type": "code",
   "execution_count": 16,
   "id": "83fda49f",
   "metadata": {},
   "outputs": [
    {
     "name": "stdout",
     "output_type": "stream",
     "text": [
      "Best SVC params: {'C': 1.0, 'loss': 'squared_hinge'}\n",
      "Best SVC CV f1: 0.9365086858558174\n",
      "Best LR params: {'C': 2.0, 'penalty': 'l2', 'solver': 'liblinear'}\n",
      "Best LR CV f1: 0.9326756612852465\n"
     ]
    }
   ],
   "source": [
    "\n",
    "from sklearn.model_selection import GridSearchCV, StratifiedKFold\n",
    "\n",
    "# Example: tune LinearSVC and Logistic Regression\n",
    "param_grid_svc = {\n",
    "    \"C\": [0.5, 1.0, 2.0],\n",
    "    \"loss\": [\"hinge\", \"squared_hinge\"]\n",
    "}\n",
    "svc = LinearSVC()\n",
    "cv = StratifiedKFold(n_splits=5, shuffle=True, random_state=42)\n",
    "grid_svc = GridSearchCV(svc, param_grid_svc, scoring='f1', cv=cv, n_jobs=-1, verbose=0)\n",
    "grid_svc.fit(Xtr, y_train)\n",
    "print(\"Best SVC params:\", grid_svc.best_params_)\n",
    "print(\"Best SVC CV f1:\", grid_svc.best_score_)\n",
    "\n",
    "param_grid_lr = {\n",
    "    \"C\": [0.5, 1.0, 2.0],\n",
    "    \"penalty\": [\"l2\"],\n",
    "    \"solver\": [\"liblinear\", \"lbfgs\"]\n",
    "}\n",
    "lr = LogisticRegression(max_iter=2000)\n",
    "grid_lr = GridSearchCV(lr, param_grid_lr, scoring='f1', cv=cv, n_jobs=-1, verbose=0)\n",
    "grid_lr.fit(Xtr, y_train)\n",
    "print(\"Best LR params:\", grid_lr.best_params_)\n",
    "print(\"Best LR CV f1:\", grid_lr.best_score_)\n"
   ]
  },
  {
   "cell_type": "code",
   "execution_count": 17,
   "id": "0cb011c0",
   "metadata": {},
   "outputs": [
    {
     "name": "stdout",
     "output_type": "stream",
     "text": [
      "\n",
      "=== Tuned LinearSVC on Test ===\n",
      "[LinearSVC (tuned)] Acc:0.9058 Prec:0.9257 Rec:0.9527 F1:0.9390\n",
      "              precision    recall  f1-score   support\n",
      "\n",
      "           0       0.83      0.76      0.79       953\n",
      "           1       0.93      0.95      0.94      3047\n",
      "\n",
      "    accuracy                           0.91      4000\n",
      "   macro avg       0.88      0.85      0.87      4000\n",
      "weighted avg       0.90      0.91      0.90      4000\n",
      "\n"
     ]
    },
    {
     "data": {
      "image/png": "[encoded data removed]",
      "text/plain": [
       "<Figure size 640x480 with 1 Axes>"
      ]
     },
     "metadata": {},
     "output_type": "display_data"
    },
    {
     "name": "stdout",
     "output_type": "stream",
     "text": [
      "\n",
      "=== Tuned LogisticRegression on Test ===\n",
      "[LogReg (tuned)] Acc:0.8985 Prec:0.9079 Rec:0.9646 F1:0.9354\n",
      "              precision    recall  f1-score   support\n",
      "\n",
      "           0       0.86      0.69      0.76       953\n",
      "           1       0.91      0.96      0.94      3047\n",
      "\n",
      "    accuracy                           0.90      4000\n",
      "   macro avg       0.88      0.83      0.85      4000\n",
      "weighted avg       0.90      0.90      0.89      4000\n",
      "\n"
     ]
    },
    {
     "data": {
      "image/png": "[encoded data removed]",
      "text/plain": [
       "<Figure size 640x480 with 1 Axes>"
      ]
     },
     "metadata": {},
     "output_type": "display_data"
    },
    {
     "data": {
      "text/plain": [
       "{'model': 'LogReg (tuned)',\n",
       " 'acc': 0.8985,\n",
       " 'prec': 0.9079394501081248,\n",
       " 'rec': 0.9645553002953725,\n",
       " 'f1': 0.9353914704010184}"
      ]
     },
     "execution_count": 17,
     "metadata": {},
     "output_type": "execute_result"
    }
   ],
   "source": [
    "\n",
    "# Evaluate tuned models on test set\n",
    "svc_best = grid_svc.best_estimator_\n",
    "lr_best = grid_lr.best_estimator_\n",
    "\n",
    "print(\"\\n=== Tuned LinearSVC on Test ===\")\n",
    "evaluate_and_report(\"LinearSVC (tuned)\", svc_best, Xtr, y_train, Xte, y_test)\n",
    "\n",
    "print(\"\\n=== Tuned LogisticRegression on Test ===\")\n",
    "evaluate_and_report(\"LogReg (tuned)\", lr_best, Xtr, y_train, Xte, y_test)\n"
   ]
  },
  {
   "cell_type": "markdown",
   "id": "1ae9b302",
   "metadata": {},
   "source": [
    "## 7. Comparative Analysis"
   ]
  },
  {
   "cell_type": "code",
   "execution_count": 18,
   "id": "1acbdc0a",
   "metadata": {},
   "outputs": [
    {
     "data": {
      "text/html": [
       "<div>\n",
       "<style scoped>\n",
       "    .dataframe tbody tr th:only-of-type {\n",
       "        vertical-align: middle;\n",
       "    }\n",
       "\n",
       "    .dataframe tbody tr th {\n",
       "        vertical-align: top;\n",
       "    }\n",
       "\n",
       "    .dataframe thead th {\n",
       "        text-align: right;\n",
       "    }\n",
       "</style>\n",
       "<table border=\"1\" class=\"dataframe\">\n",
       "  <thead>\n",
       "    <tr style=\"text-align: right;\">\n",
       "      <th></th>\n",
       "      <th>model</th>\n",
       "      <th>acc</th>\n",
       "      <th>prec</th>\n",
       "      <th>rec</th>\n",
       "      <th>f1</th>\n",
       "    </tr>\n",
       "  </thead>\n",
       "  <tbody>\n",
       "    <tr>\n",
       "      <th>0</th>\n",
       "      <td>LinearSVC</td>\n",
       "      <td>0.90575</td>\n",
       "      <td>0.925702</td>\n",
       "      <td>0.952740</td>\n",
       "      <td>0.939026</td>\n",
       "    </tr>\n",
       "    <tr>\n",
       "      <th>1</th>\n",
       "      <td>LinearSVC (tuned)</td>\n",
       "      <td>0.90575</td>\n",
       "      <td>0.925702</td>\n",
       "      <td>0.952740</td>\n",
       "      <td>0.939026</td>\n",
       "    </tr>\n",
       "    <tr>\n",
       "      <th>2</th>\n",
       "      <td>LogReg (tuned)</td>\n",
       "      <td>0.89850</td>\n",
       "      <td>0.907939</td>\n",
       "      <td>0.964555</td>\n",
       "      <td>0.935391</td>\n",
       "    </tr>\n",
       "    <tr>\n",
       "      <th>3</th>\n",
       "      <td>LogReg</td>\n",
       "      <td>0.88950</td>\n",
       "      <td>0.895056</td>\n",
       "      <td>0.968494</td>\n",
       "      <td>0.930328</td>\n",
       "    </tr>\n",
       "    <tr>\n",
       "      <th>4</th>\n",
       "      <td>RandomForest</td>\n",
       "      <td>0.87650</td>\n",
       "      <td>0.876882</td>\n",
       "      <td>0.974729</td>\n",
       "      <td>0.923220</td>\n",
       "    </tr>\n",
       "    <tr>\n",
       "      <th>5</th>\n",
       "      <td>MultinomialNB</td>\n",
       "      <td>0.82925</td>\n",
       "      <td>0.817571</td>\n",
       "      <td>0.998687</td>\n",
       "      <td>0.899099</td>\n",
       "    </tr>\n",
       "  </tbody>\n",
       "</table>\n",
       "</div>"
      ],
      "text/plain": [
       "               model      acc      prec       rec        f1\n",
       "0          LinearSVC  0.90575  0.925702  0.952740  0.939026\n",
       "1  LinearSVC (tuned)  0.90575  0.925702  0.952740  0.939026\n",
       "2     LogReg (tuned)  0.89850  0.907939  0.964555  0.935391\n",
       "3             LogReg  0.88950  0.895056  0.968494  0.930328\n",
       "4       RandomForest  0.87650  0.876882  0.974729  0.923220\n",
       "5      MultinomialNB  0.82925  0.817571  0.998687  0.899099"
      ]
     },
     "metadata": {},
     "output_type": "display_data"
    },
    {
     "name": "stdout",
     "output_type": "stream",
     "text": [
      "Strengths/Weaknesses:\n",
      "- LinearSVC: strong on sparse TF-IDF, fast; needs calibration for probabilities.\n",
      "- LogisticRegression: robust, interpretable coefficients; supports probs.\n",
      "- MultinomialNB: simple/fast; can struggle if n-gram space large.\n",
      "- RandomForest: less suited to sparse high-dim TF-IDF; slower, can overfit.\n"
     ]
    }
   ],
   "source": [
    "\n",
    "# Combine base + tuned results for comparison\n",
    "comp_rows = results.copy()\n",
    "\n",
    "# Re-evaluate tuned ones for consistent capture\n",
    "for name, est in [(\"LinearSVC (tuned)\", svc_best), (\"LogReg (tuned)\", lr_best)]:\n",
    "    pred = est.predict(Xte)\n",
    "    acc = accuracy_score(y_test, pred)\n",
    "    prec, rec, f1, _ = precision_recall_fscore_support(y_test, pred, average='binary', zero_division=0)\n",
    "    comp_rows.append({\"model\": name, \"acc\": acc, \"prec\": prec, \"rec\": rec, \"f1\": f1})\n",
    "\n",
    "comp_df = pd.DataFrame(comp_rows).sort_values(\"f1\", ascending=False).reset_index(drop=True)\n",
    "display(comp_df)\n",
    "\n",
    "print(\"Strengths/Weaknesses:\")\n",
    "print(\"- LinearSVC: strong on sparse TF-IDF, fast; needs calibration for probabilities.\")\n",
    "print(\"- LogisticRegression: robust, interpretable coefficients; supports probs.\")\n",
    "print(\"- MultinomialNB: simple/fast; can struggle if n-gram space large.\")\n",
    "print(\"- RandomForest: less suited to sparse high-dim TF-IDF; slower, can overfit.\")\n"
   ]
  },
  {
   "cell_type": "markdown",
   "id": "34e50712",
   "metadata": {},
   "source": [
    "## 8. Conclusion & Comments"
   ]
  },
  {
   "cell_type": "markdown",
   "id": "228d3c30",
   "metadata": {},
   "source": [
    "\n",
    "**Findings:** TF‑IDF + Linear SVM / Logistic Regression deliver the strongest baseline performance on this dataset.\n",
    "Tuning provides small but consistent gains.\n",
    "\n",
    "**Challenges:** noisy text, potential imbalance, high-dimensional features, and limited lemmatization (no internet corpora).\n",
    "\n",
    "**Lessons:** preprocessing quality and regularization matter; character n‑grams and transformer embeddings can further improve results given compute.\n"
   ]
  }
 ],
 "metadata": {
  "kernelspec": {
   "display_name": "Python 3 (ipykernel)",
   "language": "python",
   "name": "python3"
  },
  "language_info": {
   "codemirror_mode": {
    "name": "ipython",
    "version": 3
   },
   "file_extension": ".py",
   "mimetype": "text/x-python",
   "name": "python",
   "nbconvert_exporter": "python",
   "pygments_lexer": "ipython3",
   "version": "3.12.7"
  }
 },
 "nbformat": 4,
 "nbformat_minor": 5
}
